{
  "cells": [
    {
      "cell_type": "markdown",
      "metadata": {
        "id": "view-in-github",
        "colab_type": "text"
      },
      "source": [
        "<a href=\"https://colab.research.google.com/github/piaosan78/AIFFEL_Quest/blob/master/Quest01/Quest01.ipynb\" target=\"_parent\"><img src=\"https://colab.research.google.com/assets/colab-badge.svg\" alt=\"Open In Colab\"/></a>"
      ]
    },
    {
      "cell_type": "markdown",
      "metadata": {
        "id": "Q3I9O4Pf18wQ"
      },
      "source": [
        "회문 만들기"
      ]
    },
    {
      "cell_type": "code",
      "execution_count": 9,
      "metadata": {
        "id": "KCrwsZQQhFFZ",
        "outputId": "88471681-bcbd-4bba-d556-90711de19ac5",
        "colab": {
          "base_uri": "https://localhost:8080/"
        }
      },
      "outputs": [
        {
          "output_type": "stream",
          "name": "stdout",
          "text": [
            "입력값:\n",
            "나이트\n",
            "\n",
            "출력값:\n",
            "뒤집힌 단어는: 트이나\n",
            "입력한 단어는 회문입니다.\n"
          ]
        }
      ],
      "source": [
        "words = input(\"입력값:\\n\")\n",
        "\n",
        "def words_check(words) :\n",
        "  print()\n",
        "  print(\"출력값:\")\n",
        "  word = \"\".join(reversed(words))\n",
        "  print(\"뒤집힌 단어는:\", word)\n",
        "  palin = True\n",
        "  for i in range(len(words)//2) :\n",
        "      if words[i] != words[-1 -i] :\n",
        "        palin == False\n",
        "        break\n",
        "\n",
        "  if palin == True :\n",
        "      print(\"입력한 단어는 회문입니다.\")\n",
        "  else :\n",
        "      print(\"입력한 단어는 회문이 아닙니다.\")\n",
        "\n",
        "words_check(words)\n"
      ]
    }
  ],
  "metadata": {
    "colab": {
      "provenance": [],
      "include_colab_link": true
    },
    "kernelspec": {
      "display_name": "Python 3",
      "name": "python3"
    },
    "language_info": {
      "name": "python"
    }
  },
  "nbformat": 4,
  "nbformat_minor": 0
}