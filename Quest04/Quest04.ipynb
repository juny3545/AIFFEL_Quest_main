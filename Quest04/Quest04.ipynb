{
  "nbformat": 4,
  "nbformat_minor": 0,
  "metadata": {
    "colab": {
      "provenance": [],
      "include_colab_link": true
    },
    "kernelspec": {
      "name": "python3",
      "display_name": "Python 3"
    },
    "language_info": {
      "name": "python"
    }
  },
  "cells": [
    {
      "cell_type": "markdown",
      "metadata": {
        "id": "view-in-github",
        "colab_type": "text"
      },
      "source": [
        "<a href=\"https://colab.research.google.com/github/piaosan78/AIFFEL_Quest/blob/master/Quest04/Quest04.ipynb\" target=\"_parent\"><img src=\"https://colab.research.google.com/assets/colab-badge.svg\" alt=\"Open In Colab\"/></a>"
      ]
    },
    {
      "cell_type": "markdown",
      "source": [
        "물고기들의 움직임을 시뮬레이션\n",
        "\n",
        "아래 물고기 리스트를 입력값으로 넣었을때 물고기의 움직임을 출력값으로 뱉어내도록 만들어봅시다.\n",
        "물고기의 움직임을 출력하는 함수 2개(컴프리헨션, 제너레이터)를 만듭니다.\n",
        "컴프리헨션 함수에는 이름, 속도를 조합하고 제너레이터 함수에는 for문과 yield문을 활용합니다.\n",
        "물고기 리스트를 입력받으면, 2개의 함수는 물고기 이름과, 속도를 출력해야 합니다.\n",
        "*물고기 객체의 움직임은 일정 시간(2초) 간격으로 반복되어야 합니다.*\n",
        "\n"
      ],
      "metadata": {
        "id": "6YtESv39n7GF"
      }
    },
    {
      "cell_type": "code",
      "execution_count": 27,
      "metadata": {
        "id": "cZyXF4Z5n6RV",
        "colab": {
          "base_uri": "https://localhost:8080/"
        },
        "outputId": "1c4603ec-e7e9-496d-e79f-f3cb5dd07948"
      },
      "outputs": [
        {
          "output_type": "stream",
          "name": "stdout",
          "text": [
            "Using Comprehension:\n",
            "Nemo is swimming at 3 m/s\n",
            "Dory is swimming at 5 m/s\n",
            "Using Generator:\n",
            "Nemo is swimming at 3 m/s\n",
            "Dory is swimming at 5 m/s\n"
          ]
        }
      ],
      "source": [
        "import time as t\n",
        "\n",
        "fish_list = [\n",
        "{\"이름\": \"Nemo\", \"speed\": 3},\n",
        "{\"이름\": \"Dory\", \"speed\": 5},\n",
        "]\n",
        "\n",
        "# 컴프리헨션 함수 지정\n",
        "def show_fish_movement_comprehension(fish_list):\n",
        "\n",
        "    # 출력값 변수에 fish_list를 반복 출력하여 '이름'과 'speed' 한 쌍으로 묶이는 리스트를 만들기\n",
        "    출력값 = [(fish['이름'],fish['speed']) for fish in fish_list]\n",
        "\n",
        "    # 반복문으로 출력값에 들어있는 [name, speed]를 각각 변수로 만들기\n",
        "    for name,speed in 출력값:\n",
        "\n",
        "      # print 출력 - 반복문으로 만든 name 과 speed를 문자열과 같이 출력\n",
        "      print(name,'is swimming at',speed, 'm/s')\n",
        "\n",
        "      # time 모듈에 sleep을 실행하여 2초 간격두기\n",
        "      t.sleep(2)\n",
        "\n",
        "# 제너레이터 함수 지정\n",
        "def show_fish_movement_Generator(fish_list):\n",
        "\n",
        "    # 반복문으로 fish_list 딕셔너리 형태로 fish 변수에 할당\n",
        "    for fish in fish_list:\n",
        "\n",
        "        # f{} 포맷 형태로 yield 지정하여 func에 할당시켜두기\n",
        "        yield f'''{fish['이름']} is swimming at {fish['speed']} m/s'''\n",
        "\n",
        "\n",
        "a = show_fish_movement_Generator(fish_list)\n",
        "\n",
        "print(\"Using Comprehension:\")\n",
        "show_fish_movement_comprehension(fish_list)\n",
        "print(\"Using Generator:\")\n",
        "show_fish_movement_Generator(fish_list)\n",
        "print(next(a))\n",
        "t.sleep(2)\n",
        "print(next(a))"
      ]
    }
  ]
}