{
  "nbformat": 4,
  "nbformat_minor": 0,
  "metadata": {
    "colab": {
      "provenance": [],
      "include_colab_link": true
    },
    "kernelspec": {
      "name": "python3",
      "display_name": "Python 3"
    },
    "language_info": {
      "name": "python"
    }
  },
  "cells": [
    {
      "cell_type": "markdown",
      "metadata": {
        "id": "view-in-github",
        "colab_type": "text"
      },
      "source": [
        "<a href=\"https://colab.research.google.com/github/piaosan78/AIFFEL_Quest/blob/master/Quest04/Quest04(%EC%A0%84%EC%9E%AC%EC%98%81%EB%8B%98_%EC%B6%94%EA%B0%80).ipynb\" target=\"_parent\"><img src=\"https://colab.research.google.com/assets/colab-badge.svg\" alt=\"Open In Colab\"/></a>"
      ]
    },
    {
      "cell_type": "markdown",
      "source": [
        "물고기들의 움직임을 시뮬레이션\n",
        "\n",
        "아래 물고기 리스트를 입력값으로 넣었을때 물고기의 움직임을 출력값으로 뱉어내도록 만들어봅시다.\n",
        "물고기의 움직임을 출력하는 함수 2개(컴프리헨션, 제너레이터)를 만듭니다.\n",
        "컴프리헨션 함수에는 이름, 속도를 조합하고 제너레이터 함수에는 for문과 yield문을 활용합니다.\n",
        "물고기 리스트를 입력받으면, 2개의 함수는 물고기 이름과, 속도를 출력해야 합니다.\n",
        "*물고기 객체의 움직임은 일정 시간(2초) 간격으로 반복되어야 합니다.*\n",
        "\n"
      ],
      "metadata": {
        "id": "6YtESv39n7GF"
      }
    },
    {
      "cell_type": "code",
      "execution_count": null,
      "metadata": {
        "id": "cZyXF4Z5n6RV",
        "colab": {
          "base_uri": "https://localhost:8080/"
        },
        "outputId": "db74c514-6c9c-4037-c08c-b49940ddd3a5"
      },
      "outputs": [
        {
          "output_type": "stream",
          "name": "stdout",
          "text": [
            "Using Comprehension:\n",
            "Nemo is swimming at 3 m/s\n",
            "Dory is swimming at 5 m/s\n",
            "Using Generator:\n",
            "Nemo is swimming at 3 m/s\n",
            "Dory is swimming at 5 m/s\n"
          ]
        }
      ],
      "source": [
        "import time as t\n",
        "# 입력값을 입력하는 경우\n",
        "'''\n",
        "fish_list = []\n",
        "\n",
        "while True:\n",
        "    name = input(\"이름을 입력하세요 (or 'q' to quit): \")\n",
        "    if name == 'q':\n",
        "      break\n",
        "    speed = int(input(\"speed를 입력하세요: \"))\n",
        "    fish = {\"이름\": name, \"speed\": speed}\n",
        "    fish_list.append(fish)\n",
        "'''\n",
        "# 입력값을 처음부터 주는 경우\n",
        "fish_list = [\n",
        "{\"이름\": \"Nemo\", \"speed\": 3},\n",
        "{\"이름\": \"Dory\", \"speed\": 5},\n",
        "]\n",
        "# comprehension을 사용하여 출력값을 입력\n",
        "def show_fish_movement_comprehension(fish_list):\n",
        "  # fish list에 있는 fish 에 대해 밸류값\n",
        "    출력값 = [(fish['이름'],fish['speed']) for fish in fish_list]\n",
        "    for name,speed in 출력값:\n",
        "      print(name,'is swimming at',speed, 'm/s')\n",
        "      t.sleep(2)\n",
        "\n",
        "\n",
        "def show_fish_movement_Generator(fish_list):\n",
        "    newlist = fish_list\n",
        "    def generator(newlist):\n",
        "        for fish in newlist:\n",
        "            yield f'''{fish['이름']} is swimming at {fish['speed']} m/s'''\n",
        "    a = generator(newlist)\n",
        "    for i in generator(newlist):\n",
        "        print(next(a))\n",
        "        t.sleep(2)\n",
        "\n",
        "print(\"Using Comprehension:\")\n",
        "show_fish_movement_comprehension(fish_list)\n",
        "print(\"Using Generator:\")\n",
        "show_fish_movement_Generator(fish_list)"
      ]
    },
    {
      "cell_type": "code",
      "source": [
        "import time as t\n",
        "\n",
        "fish_list = [\n",
        "{\"이름\": \"Nemo\", \"speed\": 3},\n",
        "{\"이름\": \"Dory\", \"speed\": 5},\n",
        "]\n",
        "\n",
        "def show_fish_movement_comprehension(*fish_list):\n",
        "  def show_fish_movement_comprehension(**kwargs):\n",
        "    # fish_list에 있는 딕셔너리 요소들을 하나하나 불러옴\n",
        "    for k,v in (kwargs)):\n",
        "    # comprehension을 활용하여 value 값들을 별도의 리스트로 저장\n",
        "    [x in ]\n",
        "return f''\n",
        "\n",
        "\n",
        "\n",
        "def show_fish_movement_Generator(fish_list):\n",
        "\n",
        "\n",
        "# for yield\n",
        "\n",
        "t.sleep(2)\n",
        "\n",
        "print(\"Using Comprehension:\")\n",
        "show_fish_movement_comprehension(fish_list)\n",
        "print(\"Using Generator:\")\n",
        "show_fish_movement_Generator(fish_list)"
      ],
      "metadata": {
        "id": "O3RRz_I7rNgY"
      },
      "execution_count": null,
      "outputs": []
    }
  ]
}